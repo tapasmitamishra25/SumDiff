{
 "cells": [
  {
   "cell_type": "code",
   "execution_count": null,
   "metadata": {},
   "outputs": [],
   "source": [
    "def addition():\n",
    "    a=int(gmui.lineEdit.text())\n",
    "    b=int(gmui.lineEdit_2.text())\n",
    "    c=a+b\n",
    "    gmui.label.setText('The Sum is {}'.format(c))\n",
    "def substraction():\n",
    "    a=int(gmui.lineEdit.text())\n",
    "    b=int(gmui.lineEdit_2.text())\n",
    "    d=a-b\n",
    "    gmui.label.setText('The Difference is  {}'.format(d))"
   ]
  },
  {
   "cell_type": "code",
   "execution_count": null,
   "metadata": {},
   "outputs": [],
   "source": [
    "from PyQt5 import QtWidgets, uic\n",
    "import sys\n",
    "app=QtWidgets.QApplication([ ])\n",
    "gmui=uic.loadUi('add_sub1.ui')\n",
    "gmui.pushButton.clicked.connect(addition)\n",
    "gmui.pushButton_2.clicked.connect(substraction)\n",
    "gmui.show()\n",
    "sys.exit(app.exec())\n",
    "del app"
   ]
  }
 ],
 "metadata": {
  "kernelspec": {
   "display_name": "Python 3",
   "language": "python",
   "name": "python3"
  },
  "language_info": {
   "codemirror_mode": {
    "name": "ipython",
    "version": 3
   },
   "file_extension": ".py",
   "mimetype": "text/x-python",
   "name": "python",
   "nbconvert_exporter": "python",
   "pygments_lexer": "ipython3",
   "version": "3.7.6"
  }
 },
 "nbformat": 4,
 "nbformat_minor": 4
}
